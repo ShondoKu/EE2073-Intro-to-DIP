{
 "cells": [
  {
   "cell_type": "markdown",
   "metadata": {},
   "source": [
    "# Lab 1 Code and discussions"
   ]
  },
  {
   "cell_type": "markdown",
   "metadata": {},
   "source": [
    "## Objective\n",
    "\n",
    "Introduction to the controller unit and set up a Python Development Environment for writing programs that would be used to control the audio amplifier"
   ]
  },
  {
   "cell_type": "markdown",
   "metadata": {},
   "source": [
    "## Installed Packages\n",
    "**Python**\n",
    "\n",
    "**notebook**\n",
    "\n",
    "**ipywidgets**\n",
    "\n",
    "**pyserial** - enables python programs to communicate with devices via serial ports\n",
    "\n",
    "**numpy** - data processing and analysis\n",
    "\n",
    "**plotly** - visualization"
   ]
  },
  {
   "cell_type": "markdown",
   "metadata": {},
   "source": [
    "### Identifying Serial Ports"
   ]
  },
  {
   "cell_type": "code",
   "execution_count": 2,
   "metadata": {},
   "outputs": [],
   "source": [
    "import serial\n",
    "import serial.tools.list_ports\n",
    "\n",
    "ports = serial.tools.list_ports.comports() #contains devices connected to all serial ports of computer\n",
    "\n"
   ]
  },
  {
   "cell_type": "markdown",
   "metadata": {},
   "source": [
    "### Open communication channel with the controller"
   ]
  },
  {
   "cell_type": "code",
   "execution_count": 5,
   "metadata": {},
   "outputs": [],
   "source": [
    "VID = 61525 #vendor ID of the device\n",
    "PID = 38912 #product ID of the device\n",
    "\n",
    "for p in ports:\n",
    "    if p.vid == VID and p.pid == PID:\n",
    "        try:\n",
    "            device=serial.Serial(p.device)\n",
    "        except serial.SerialException: #raised if the device is not available\n",
    "            print('Reconnect the controller unit')\n",
    "    if device is None:\n",
    "        raise Exception('No suitable device detected.') #if no matching device found"
   ]
  },
  {
   "cell_type": "code",
   "execution_count": 7,
   "metadata": {},
   "outputs": [
    {
     "name": "stdout",
     "output_type": "stream",
     "text": [
      "Serial<id=0x2152d8e38e0, open=True>(port='COM3', baudrate=9600, bytesize=8, parity='N', stopbits=1, timeout=None, xonxoff=False, rtscts=False, dsrdtr=False)\n"
     ]
    }
   ],
   "source": [
    "print(device) #check the connection information"
   ]
  },
  {
   "cell_type": "markdown",
   "metadata": {},
   "source": [
    "### Simple microPython Commands using write() function"
   ]
  },
  {
   "cell_type": "code",
   "execution_count": 9,
   "metadata": {},
   "outputs": [
    {
     "data": {
      "text/plain": [
       "20"
      ]
     },
     "execution_count": 9,
     "metadata": {},
     "output_type": "execute_result"
    }
   ],
   "source": [
    "device.write(bytes('pyb.LED(1).toggle()\\r','utf-8')) #toggle the status of the D2 LED"
   ]
  },
  {
   "cell_type": "markdown",
   "metadata": {},
   "source": [
    "**bytes()** - converts the string into bytes using the UTF-8 encoding\n",
    "\n",
    "*string must end with '\\r' which marks the end of the command string and needed for proper registration\n",
    "\n",
    "**write()** - passes it to the controller unit\n"
   ]
  },
  {
   "cell_type": "markdown",
   "metadata": {},
   "source": [
    "### Adjusting DC supply voltage"
   ]
  },
  {
   "cell_type": "markdown",
   "metadata": {},
   "source": [
    "#### 5 Volts"
   ]
  },
  {
   "cell_type": "code",
   "execution_count": 10,
   "metadata": {},
   "outputs": [
    {
     "data": {
      "text/plain": [
       "12"
      ]
     },
     "execution_count": 10,
     "metadata": {},
     "output_type": "execute_result"
    }
   ],
   "source": [
    "device.write(bytes('volt=5\\r','utf-8'))\n",
    "device.write(bytes('from pyb import Pin\\r','utf-8'))\n",
    "device.write(bytes('from machine import SPI\\r','utf-8'))\n",
    "device.write(bytes('spi = SPI(sck=Pin(\\'PB13\\',Pin.OUT), mosi=Pin(\\'PB15\\', Pin.OUT), miso=Pin(\\'PB14\\', Pin.IN))\\r','utf-8'))\n",
    "device.write(bytes('dz=Pin(\\'PB12\\', Pin.OUT)\\r','utf-8'))\n",
    "device.write(bytes('y=312-1020/volt\\r','utf-8'))\n",
    "device.write(bytes('dz.value(0)\\r','utf-8'))\n",
    "device.write(bytes('spi.write(b\\'\\\\x11\\')\\r','utf-8'))\n",
    "device.write(bytes('spi.write(bytes((int(y),)))\\r','utf-8'))\n",
    "device.write(bytes('dz.value(1)\\r','utf-8'))"
   ]
  },
  {
   "cell_type": "markdown",
   "metadata": {},
   "source": [
    "#### 12 Volts"
   ]
  },
  {
   "cell_type": "code",
   "execution_count": 11,
   "metadata": {},
   "outputs": [
    {
     "data": {
      "text/plain": [
       "12"
      ]
     },
     "execution_count": 11,
     "metadata": {},
     "output_type": "execute_result"
    }
   ],
   "source": [
    "device.write(bytes('volt=12\\r','utf-8'))\n",
    "device.write(bytes('from pyb import Pin\\r','utf-8'))\n",
    "device.write(bytes('from machine import SPI\\r','utf-8'))\n",
    "device.write(bytes('spi = SPI(sck=Pin(\\'PB13\\',Pin.OUT), mosi=Pin(\\'PB15\\', Pin.OUT), miso=Pin(\\'PB14\\', Pin.IN))\\r','utf-8'))\n",
    "device.write(bytes('dz=Pin(\\'PB12\\', Pin.OUT)\\r','utf-8'))\n",
    "device.write(bytes('y=312-1020/volt\\r','utf-8'))\n",
    "device.write(bytes('dz.value(0)\\r','utf-8'))\n",
    "device.write(bytes('spi.write(b\\'\\\\x11\\')\\r','utf-8'))\n",
    "device.write(bytes('spi.write(bytes((int(y),)))\\r','utf-8'))\n",
    "device.write(bytes('dz.value(1)\\r','utf-8'))"
   ]
  },
  {
   "cell_type": "markdown",
   "metadata": {},
   "source": [
    "### Closing Connection"
   ]
  },
  {
   "cell_type": "code",
   "execution_count": 1,
   "metadata": {},
   "outputs": [
    {
     "ename": "NameError",
     "evalue": "name 'device' is not defined",
     "output_type": "error",
     "traceback": [
      "\u001b[1;31m---------------------------------------------------------------------------\u001b[0m",
      "\u001b[1;31mNameError\u001b[0m                                 Traceback (most recent call last)",
      "Cell \u001b[1;32mIn[1], line 1\u001b[0m\n\u001b[1;32m----> 1\u001b[0m \u001b[43mdevice\u001b[49m\u001b[38;5;241m.\u001b[39mclose() \u001b[38;5;66;03m# close connection\u001b[39;00m\n",
      "\u001b[1;31mNameError\u001b[0m: name 'device' is not defined"
     ]
    }
   ],
   "source": [
    "device.close() # close connection"
   ]
  },
  {
   "cell_type": "markdown",
   "metadata": {},
   "source": [
    "## Open Ended Questions - What is SPI"
   ]
  },
  {
   "cell_type": "markdown",
   "metadata": {},
   "source": [
    "### SPI"
   ]
  },
  {
   "cell_type": "markdown",
   "metadata": {},
   "source": [
    "**Serial Peripheral Interface**\n",
    "\n",
    "Communcation protocal for synchronous *serial communication* for microcontroller\n"
   ]
  },
  {
   "cell_type": "markdown",
   "metadata": {},
   "source": [
    "### sck, mosi, miso, SPI(), PIN(), Pin.OUT, Pin.IN"
   ]
  },
  {
   "cell_type": "markdown",
   "metadata": {},
   "source": [
    "**sck** - serial clock, generated by the master\n",
    "\n",
    "**mosi** - Master to Slave, Master-Out-Salve-In, serial data transmitted from Master to Slave\n",
    "\n",
    "**miso** - Slave to Master, Master-In-Slave-Out, the serial data transmitted by a Slave and sent to the Master\n",
    "\n",
    "**SPI()** - Initialise the SPI Bus with parameters\n",
    "\n",
    "**PIN()** - Access the pin peripheral (GPIO pin) associated with the given id. Additional arguments are used to initialise the pin.\n",
    "\n",
    "**Pin.OUT** - Sets that pin as an Output\n",
    "\n",
    "**Pin.IN** - Sets that pin as an input"
   ]
  }
 ],
 "metadata": {
  "kernelspec": {
   "display_name": "ee2073",
   "language": "python",
   "name": "python3"
  },
  "language_info": {
   "codemirror_mode": {
    "name": "ipython",
    "version": 3
   },
   "file_extension": ".py",
   "mimetype": "text/x-python",
   "name": "python",
   "nbconvert_exporter": "python",
   "pygments_lexer": "ipython3",
   "version": "3.12.0"
  }
 },
 "nbformat": 4,
 "nbformat_minor": 2
}
