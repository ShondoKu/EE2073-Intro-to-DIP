{
 "cells": [
  {
   "cell_type": "markdown",
   "metadata": {},
   "source": [
    "# Lab 2"
   ]
  },
  {
   "cell_type": "markdown",
   "metadata": {},
   "source": [
    "## Objectives"
   ]
  },
  {
   "cell_type": "markdown",
   "metadata": {},
   "source": [
    "To install custom firmware on the controller unit, aquire time-sampled readings by sending command strings, and learn to visualize the data"
   ]
  },
  {
   "cell_type": "markdown",
   "metadata": {},
   "source": [
    "### Communication Channel with device"
   ]
  },
  {
   "cell_type": "code",
   "execution_count": 1,
   "metadata": {},
   "outputs": [
    {
     "ename": "Exception",
     "evalue": "No suitable device detected.",
     "output_type": "error",
     "traceback": [
      "\u001b[1;31m---------------------------------------------------------------------------\u001b[0m",
      "\u001b[1;31mException\u001b[0m                                 Traceback (most recent call last)",
      "Cell \u001b[1;32mIn[1], line 19\u001b[0m\n\u001b[0;32m     16\u001b[0m             \u001b[38;5;28mprint\u001b[39m(\u001b[38;5;124m'\u001b[39m\u001b[38;5;124mReconnect the controller unit.\u001b[39m\u001b[38;5;124m'\u001b[39m) \n\u001b[0;32m     18\u001b[0m \u001b[38;5;28;01mif\u001b[39;00m device \u001b[38;5;129;01mis\u001b[39;00m \u001b[38;5;28;01mNone\u001b[39;00m: \n\u001b[1;32m---> 19\u001b[0m     \u001b[38;5;28;01mraise\u001b[39;00m \u001b[38;5;167;01mException\u001b[39;00m(\u001b[38;5;124m'\u001b[39m\u001b[38;5;124mNo suitable device detected.\u001b[39m\u001b[38;5;124m'\u001b[39m)\n",
      "\u001b[1;31mException\u001b[0m: No suitable device detected."
     ]
    }
   ],
   "source": [
    "# communication channel setup \n",
    "import serial \n",
    "import serial.tools.list_ports \n",
    " \n",
    "VID = 61525 \n",
    "PID = 38912 \n",
    " \n",
    "ports = serial.tools.list_ports.comports() \n",
    " \n",
    "device = None \n",
    "for p in ports: \n",
    "    if p.vid == VID and p.pid == PID: \n",
    "        try:  \n",
    "            device = serial.Serial(p.device) \n",
    "        except serial.SerialException: \n",
    "            print('Reconnect the controller unit.') \n",
    " \n",
    "if device is None: \n",
    "    raise Exception('No suitable device detected.')"
   ]
  },
  {
   "cell_type": "markdown",
   "metadata": {},
   "source": [
    "### Setting VDCP"
   ]
  },
  {
   "cell_type": "markdown",
   "metadata": {},
   "source": [
    "#### Command string"
   ]
  },
  {
   "cell_type": "markdown",
   "metadata": {},
   "source": [
    "Format: 'dzAAAA\\r'\n",
    "\n",
    "-  'dz' instructs the controller unit to set the DC supply voltage. \n",
    "\n",
    "\n",
    "-  'AAAA' represents the intended DC voltage value in **10 mV** increments, with zero-padding to fill up four-character spaces. \n",
    "\n",
    "\n",
    "-  '\\r' is the carriage return character"
   ]
  },
  {
   "cell_type": "markdown",
   "metadata": {},
   "source": [
    "#### Setting VDCP to 8V"
   ]
  },
  {
   "cell_type": "code",
   "execution_count": 3,
   "metadata": {},
   "outputs": [],
   "source": [
    "vdc = 8\n",
    "cmd_setvdc = 'dz' + str(int(vdc*100)).zfill(4) + '\\r'"
   ]
  },
  {
   "cell_type": "markdown",
   "metadata": {},
   "source": [
    "'int(vdc*100)' - converts the desired voltage balue to an integer by multiplying by 100. \n",
    "\n",
    "'str().zfill()' - converts the above integer value into a string and adds '0' at the front until the string reaches the specified length indicated in the bracket."
   ]
  },
  {
   "cell_type": "markdown",
   "metadata": {},
   "source": [
    "#### Setting VDCP to 12V"
   ]
  },
  {
   "cell_type": "code",
   "execution_count": null,
   "metadata": {},
   "outputs": [],
   "source": [
    "vdc = 12\n",
    "cmd_setvdc = 'dz' + str(int(vdc*100)).zfill(4) + '\\r'"
   ]
  },
  {
   "cell_type": "markdown",
   "metadata": {},
   "source": [
    "##### Sending the command to the controller unit"
   ]
  },
  {
   "cell_type": "code",
   "execution_count": 2,
   "metadata": {},
   "outputs": [
    {
     "ename": "SyntaxError",
     "evalue": "incomplete input (3078679042.py, line 1)",
     "output_type": "error",
     "traceback": [
      "\u001b[1;36m  Cell \u001b[1;32mIn[2], line 1\u001b[1;36m\u001b[0m\n\u001b[1;33m    device.write(bytes(cmd_setvdc, 'utf-8')\u001b[0m\n\u001b[1;37m                                           ^\u001b[0m\n\u001b[1;31mSyntaxError\u001b[0m\u001b[1;31m:\u001b[0m incomplete input\n"
     ]
    }
   ],
   "source": [
    "device.write(bytes(cmd_setvdc, 'utf-8'))"
   ]
  },
  {
   "cell_type": "markdown",
   "metadata": {},
   "source": [
    "### Generating timed voltage singnals"
   ]
  },
  {
   "cell_type": "markdown",
   "metadata": {},
   "source": [
    "#### Command string"
   ]
  },
  {
   "cell_type": "markdown",
   "metadata": {},
   "source": [
    "Format: 'sBCCDDDEEEEEEEFFFFGGGG\\r'\n",
    "-  'sB' indicates the channel for generating the waveform with '1' or '2' replacing 'B' to represent W1 or W2, respectively. \n",
    "\n",
    "\n",
    "-  'CC' denotes the waveform shape. Currently, three shapes are supported: sinusoidal ('00'), triangular ('10'), and sawtooth ('11'). \n",
    "\n",
    "\n",
    "-  'DDD' specifies the number of samples per oscillation cycle. \n",
    "\n",
    "\n",
    "-  'EEEEEEE' represents the oscillation frequency in Hz. \n",
    "\n",
    "\n",
    "-  'FFFF' is the signal amplitude in 10 mV. \n",
    "\n",
    "\n",
    "-  'GGGG' is the DC offset in 10 mV."
   ]
  },
  {
   "cell_type": "markdown",
   "metadata": {},
   "source": [
    "#### Creating and measuring a sinusoidal waveform \n",
    "##### 2kHz freq, 0.5V Amplitude, 0V DC offset on W1"
   ]
  },
  {
   "cell_type": "code",
   "execution_count": 4,
   "metadata": {},
   "outputs": [
    {
     "ename": "AttributeError",
     "evalue": "'NoneType' object has no attribute 'write'",
     "output_type": "error",
     "traceback": [
      "\u001b[1;31m---------------------------------------------------------------------------\u001b[0m",
      "\u001b[1;31mAttributeError\u001b[0m                            Traceback (most recent call last)",
      "Cell \u001b[1;32mIn[4], line 7\u001b[0m\n\u001b[0;32m      5\u001b[0m cmd_gensin \u001b[38;5;241m=\u001b[39m \u001b[38;5;124m'\u001b[39m\u001b[38;5;124ms100\u001b[39m\u001b[38;5;124m'\u001b[39m \u001b[38;5;66;03m# W1 sinusoidal \u001b[39;00m\n\u001b[0;32m      6\u001b[0m cmd_gensin \u001b[38;5;241m+\u001b[39m\u001b[38;5;241m=\u001b[39m \u001b[38;5;28mstr\u001b[39m(ns)\u001b[38;5;241m.\u001b[39mzfill(\u001b[38;5;241m3\u001b[39m) \u001b[38;5;241m+\u001b[39m \u001b[38;5;28mstr\u001b[39m(freq)\u001b[38;5;241m.\u001b[39mzfill(\u001b[38;5;241m7\u001b[39m) \u001b[38;5;241m+\u001b[39m \u001b[38;5;28mstr\u001b[39m(\u001b[38;5;28mint\u001b[39m(amp\u001b[38;5;241m*\u001b[39m\u001b[38;5;241m100\u001b[39m))\u001b[38;5;241m.\u001b[39mzfill(\u001b[38;5;241m4\u001b[39m) \u001b[38;5;241m+\u001b[39m \u001b[38;5;28mstr\u001b[39m(\u001b[38;5;28mint\u001b[39m(offset\u001b[38;5;241m*\u001b[39m\u001b[38;5;241m100\u001b[39m))\u001b[38;5;241m.\u001b[39mzfill(\u001b[38;5;241m4\u001b[39m) \u001b[38;5;241m+\u001b[39m \u001b[38;5;124m'\u001b[39m\u001b[38;5;130;01m\\r\u001b[39;00m\u001b[38;5;124m'\u001b[39m \n\u001b[1;32m----> 7\u001b[0m \u001b[43mdevice\u001b[49m\u001b[38;5;241;43m.\u001b[39;49m\u001b[43mwrite\u001b[49m(\u001b[38;5;28mbytes\u001b[39m(cmd_gensin, \u001b[38;5;124m'\u001b[39m\u001b[38;5;124mutf-8\u001b[39m\u001b[38;5;124m'\u001b[39m))\n",
      "\u001b[1;31mAttributeError\u001b[0m: 'NoneType' object has no attribute 'write'"
     ]
    }
   ],
   "source": [
    "ns = 64             # samples per cycle; 64 generally enough \n",
    "freq = 2000         # frequency in Hz\n",
    "amp = 0.5           # amplitude \n",
    "offset = 0          # DC offset \n",
    "cmd_gensin = 's100' # W1 sinusoidal \n",
    "cmd_gensin += str(ns).zfill(3) + str(freq).zfill(7) + str(int(amp*100)).zfill(4) + str(int(offset*100)).zfill(4) + '\\r' \n",
    "device.write(bytes(cmd_gensin, 'utf-8'))    #sending the command string to controller unit"
   ]
  },
  {
   "cell_type": "markdown",
   "metadata": {},
   "source": [
    "##### Measurements"
   ]
  },
  {
   "cell_type": "markdown",
   "metadata": {},
   "source": [
    "Vp = \n",
    "\n",
    "Vrms(ideal) = 0.707Vp\n",
    "\n",
    "Vrms(measured) = \n",
    "\n",
    "Freq = "
   ]
  },
  {
   "cell_type": "markdown",
   "metadata": {},
   "source": [
    "#### Creating and measuring a triangular waveform \n",
    "##### 2kHz freq, 0.5V Amplitude, 0V DC offset on W1"
   ]
  },
  {
   "cell_type": "code",
   "execution_count": 5,
   "metadata": {},
   "outputs": [
    {
     "ename": "AttributeError",
     "evalue": "'NoneType' object has no attribute 'write'",
     "output_type": "error",
     "traceback": [
      "\u001b[1;31m---------------------------------------------------------------------------\u001b[0m",
      "\u001b[1;31mAttributeError\u001b[0m                            Traceback (most recent call last)",
      "Cell \u001b[1;32mIn[5], line 7\u001b[0m\n\u001b[0;32m      5\u001b[0m cmd_gensin \u001b[38;5;241m=\u001b[39m \u001b[38;5;124m'\u001b[39m\u001b[38;5;124ms110\u001b[39m\u001b[38;5;124m'\u001b[39m \u001b[38;5;66;03m# W1 triangular\u001b[39;00m\n\u001b[0;32m      6\u001b[0m cmd_gensin \u001b[38;5;241m+\u001b[39m\u001b[38;5;241m=\u001b[39m \u001b[38;5;28mstr\u001b[39m(ns)\u001b[38;5;241m.\u001b[39mzfill(\u001b[38;5;241m3\u001b[39m) \u001b[38;5;241m+\u001b[39m \u001b[38;5;28mstr\u001b[39m(freq)\u001b[38;5;241m.\u001b[39mzfill(\u001b[38;5;241m7\u001b[39m) \u001b[38;5;241m+\u001b[39m \u001b[38;5;28mstr\u001b[39m(\u001b[38;5;28mint\u001b[39m(amp\u001b[38;5;241m*\u001b[39m\u001b[38;5;241m100\u001b[39m))\u001b[38;5;241m.\u001b[39mzfill(\u001b[38;5;241m4\u001b[39m) \u001b[38;5;241m+\u001b[39m \u001b[38;5;28mstr\u001b[39m(\u001b[38;5;28mint\u001b[39m(offset\u001b[38;5;241m*\u001b[39m\u001b[38;5;241m100\u001b[39m))\u001b[38;5;241m.\u001b[39mzfill(\u001b[38;5;241m4\u001b[39m) \u001b[38;5;241m+\u001b[39m \u001b[38;5;124m'\u001b[39m\u001b[38;5;130;01m\\r\u001b[39;00m\u001b[38;5;124m'\u001b[39m \n\u001b[1;32m----> 7\u001b[0m \u001b[43mdevice\u001b[49m\u001b[38;5;241;43m.\u001b[39;49m\u001b[43mwrite\u001b[49m(\u001b[38;5;28mbytes\u001b[39m(cmd_gensin, \u001b[38;5;124m'\u001b[39m\u001b[38;5;124mutf-8\u001b[39m\u001b[38;5;124m'\u001b[39m))  \u001b[38;5;66;03m#sending the command string to controller unit\u001b[39;00m\n",
      "\u001b[1;31mAttributeError\u001b[0m: 'NoneType' object has no attribute 'write'"
     ]
    }
   ],
   "source": [
    "ns = 64             # samples per cycle; 64 generally enough \n",
    "freq = 2000         # frequency in Hz\n",
    "amp = 0.5           # amplitude \n",
    "offset = 0          # DC offset \n",
    "cmd_gensin = 's110' # W1 triangular\n",
    "cmd_gensin += str(ns).zfill(3) + str(freq).zfill(7) + str(int(amp*100)).zfill(4) + str(int(offset*100)).zfill(4) + '\\r' \n",
    "device.write(bytes(cmd_gensin, 'utf-8'))    #sending the command string to controller unit"
   ]
  },
  {
   "cell_type": "markdown",
   "metadata": {},
   "source": [
    "##### Measurements"
   ]
  },
  {
   "cell_type": "markdown",
   "metadata": {},
   "source": [
    "Vp = \n",
    "\n",
    "Vrms(ideal) = 0.707Vp\n",
    "\n",
    "Vrms(measured) = \n",
    "\n",
    "Freq = "
   ]
  },
  {
   "cell_type": "markdown",
   "metadata": {},
   "source": [
    "#### Discussion of the change of meaurements"
   ]
  },
  {
   "cell_type": "markdown",
   "metadata": {},
   "source": []
  },
  {
   "cell_type": "markdown",
   "metadata": {},
   "source": [
    "### Reading timed voltage signals"
   ]
  },
  {
   "cell_type": "markdown",
   "metadata": {},
   "source": [
    "#### Command String"
   ]
  },
  {
   "cell_type": "markdown",
   "metadata": {},
   "source": [
    "Format: 'm1HHHHHHIJJJKKKLMMMNNN\\r'\n",
    "-  'm1', instructs the controller unit to read timed voltage signals from CH1 and CH2.\n",
    "\n",
    "\n",
    "-  'HHHHHH' represents the sampling frequency given in Hz. For our current implementation of the controller unit, the maximum sampling rate that can reliably read both channels is 210kHz.\n",
    "\n",
    "\n",
    "-  'IJJJKKK' and 'LMMMNNN' are the coupling mode ('I' and 'L'), gain ('JJJ' and 'MMM'), and DC offset ('KKK' and 'NNN') parameters for CH1 and CH2, respectively. These values are \n",
    "crucial for configuring the ADC to accurately measure the signal within the expected voltage range. Calibration is necessary to determine the values of these parameters for different voltage ranges. In particular, the DC bias values can vary between units and need to be adjusted individually."
   ]
  },
  {
   "cell_type": "code",
   "execution_count": null,
   "metadata": {},
   "outputs": [],
   "source": []
  }
 ],
 "metadata": {
  "kernelspec": {
   "display_name": "ee2073",
   "language": "python",
   "name": "python3"
  },
  "language_info": {
   "codemirror_mode": {
    "name": "ipython",
    "version": 3
   },
   "file_extension": ".py",
   "mimetype": "text/x-python",
   "name": "python",
   "nbconvert_exporter": "python",
   "pygments_lexer": "ipython3",
   "version": "3.12.0"
  }
 },
 "nbformat": 4,
 "nbformat_minor": 2
}
