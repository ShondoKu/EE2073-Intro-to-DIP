{
 "cells": [
  {
   "cell_type": "code",
   "execution_count": 27,
   "metadata": {},
   "outputs": [],
   "source": [
    "# For use with VScope v1.4r1\n",
    "# Law Choi Look     ecclaw@ntu.edu.sg           07 Mar 2022 v1.3\n",
    "# Wonkeun Chang     wonkeun.chang@ntu.edu.sg    22 Jul 2023 v2.7"
   ]
  },
  {
   "cell_type": "code",
   "execution_count": 28,
   "metadata": {},
   "outputs": [],
   "source": [
    "import serial\n",
    "import serial.tools.list_ports\n",
    "\n",
    "import threading\n",
    "import time\n",
    "\n",
    "import plotly\n",
    "from ipywidgets import interactive_output,fixed,Button,ToggleButtons,SelectionSlider,IntSlider,FloatSlider,HTML,HBox,VBox,Label,Layout\n",
    "from IPython.display import display\n",
    "\n",
    "import numpy as np\n",
    "\n",
    "VID=61525\n",
    "PID=38912\n",
    "BAUDRATE=115200\n",
    "BUFFERSIZE=1000"
   ]
  },
  {
   "cell_type": "code",
   "execution_count": 29,
   "metadata": {},
   "outputs": [],
   "source": [
    "# VScopeBoard class\n",
    "\n",
    "class VScopeBoard:\n",
    "    \n",
    "    def __init__(self,vid=VID,pid=PID,baudrate=BAUDRATE):\n",
    "        ports=serial.tools.list_ports.comports()\n",
    "        for p in ports:\n",
    "            if p.vid==vid and p.pid==pid:\n",
    "                self.device=serial.Serial(p.device,baudrate=baudrate)\n",
    "        if not hasattr(self,'device'):\n",
    "            raise Exception('No controller unit detected')\n",
    "        self.device.close()\n",
    "        \n",
    "        ###########################################################################\n",
    "        # Enter your calbiration data below \n",
    "        # W1/W2 DC bias\n",
    "        self.w1bias=0.141 # W1 DC bias reading in V; set it to 0 before calibrating \n",
    "        self.w2bias=0.101 # W2 DC bias reading in V; set it to 0 before calibrating\n",
    "        ###########################################################################\n",
    "        # CH1/CH2: gain and offset look-up table\n",
    "        # 'dc' calibrate at each vscale\n",
    "        # 'dc'=-bias/'amp'+'dc'\n",
    "        self.p1={0.02 :{'gain':224,'amp':0.0950,'dc':2,'dco':130,'dco_c2':171,'aco_c2':-0.005},\n",
    "                 0.05 :{'gain':208,'amp':0.1500,'dc':1.91,'dco':130,'dco_c2':168,'aco_c2':-0.000},\n",
    "                 0.1  :{'gain':160,'amp':0.3900,'dc':1.83,'dco':130,'dco_c2':159,'aco_c2':-0.020},\n",
    "                 0.2  :{'gain':138,'amp':0.5500,'dc':1.81,'dco':130,'dco_c2':157,'aco_c2':-0.050},\n",
    "                 0.5  :{'gain':220,'amp':2.1700,'dc':2.06,'dco':130,'dco_c2':130,'aco_c2':-0.000},\n",
    "                 1    :{'gain':212,'amp':2.8500,'dc':2.0,'dco':130,'dco_c2':130,'aco_c2':-0.000},\n",
    "                 2    :{'gain':160,'amp':7.9000,'dc':1.85,'dco':130,'dco_c2':130,'aco_c2':-0.000},\n",
    "                 5    :{'gain':106,'amp':19.100,'dc':1.81,'dco':130,'dco_c2':130,'aco_c2':-0.000}}\n",
    "        self.p2={0.02 :{'gain':224,'amp':0.0950,'dc':2.03,'dco':130,'dco_c2':171,'aco_c2':-0.025},\n",
    "                 0.05 :{'gain':208,'amp':0.1500,'dc':1.93,'dco':130,'dco_c2':167,'aco_c2':-0.020},\n",
    "                 0.1  :{'gain':160,'amp':0.3900,'dc':1.84,'dco':130,'dco_c2':159,'aco_c2':-0.040},\n",
    "                 0.2  :{'gain':138,'amp':0.5500,'dc':1.82,'dco':130,'dco_c2':158,'aco_c2':-0.070},\n",
    "                 0.5  :{'gain':220,'amp':2.1700,'dc':2.08,'dco':130,'dco_c2':130,'aco_c2':-0.000},\n",
    "                 1    :{'gain':212,'amp':2.8500,'dc':2.02,'dco':130,'dco_c2':130,'aco_c2':-0.000},\n",
    "                 2    :{'gain':160,'amp':7.9000,'dc':1.86,'dco':130,'dco_c2':130,'aco_c2':-0.000},\n",
    "                 5    :{'gain':106,'amp':18.800,'dc':1.81,'dco':130,'dco_c2':130,'aco_c2':-0.000}}\n",
    "        ############################################################################\n",
    "    \n",
    "    # Set DC power supply voltage VDCP and VDCN\n",
    "    def set_vdc(self,voltage):\n",
    "        cmd='dz'+str(int(voltage*100)).zfill(4)+'\\r'\n",
    "        self.device.open()\n",
    "        self.device.reset_output_buffer()\n",
    "        self.device.write(bytes(cmd,'utf-8'))\n",
    "        self.device.close()\n",
    "    \n",
    "    # Generate waveforms on W1 and W2\n",
    "    def generate_wave(self,channel,shape,amp,freq,offset):\n",
    "        if channel==1:\n",
    "            offset-=self.w1bias\n",
    "            cmd='s1'\n",
    "        else:\n",
    "            offset-=self.w2bias\n",
    "            cmd='s2'\n",
    "        ns=64\n",
    "        if shape=='Triangular':\n",
    "            cmd+=str(10).zfill(2)\n",
    "        elif shape=='Sawtooth':\n",
    "            cmd+=str(11).zfill(2)\n",
    "        else:\n",
    "            cmd+=str(0).zfill(2)\n",
    "        cmd+=str(ns).zfill(3)+str(freq).zfill(7)+str(int(amp*100)).zfill(4)+str(int(offset*100)).zfill(4)+'\\r'\n",
    "        self.device.open()\n",
    "        self.device.reset_output_buffer()\n",
    "        self.device.write(bytes(cmd,'utf-8'))\n",
    "        self.device.close()\n",
    "    \n",
    "    # Capture oscilloscope traces on CH1 and CH2\n",
    "    def capture_oscscope(self,tbase,vscale1,coupling1,vscale2,coupling2):\n",
    "        if tbase>1100:\n",
    "            fs=50000\n",
    "        elif tbase>510:\n",
    "            fs=100000\n",
    "        else:\n",
    "            fs=200000 # maximum sampling rate=210 kHz\n",
    "        if coupling1=='DC':\n",
    "            c1=0 if vscale1<0.4 else 1\n",
    "        else:\n",
    "            c1=2 if coupling1=='AC' else 3\n",
    "        if coupling2=='DC':\n",
    "            c2=0 if vscale2<0.4 else 1\n",
    "        else:\n",
    "            c2=2 if coupling2=='AC' else 3\n",
    "        if c1==2:\n",
    "            dco1=self.p1[vscale1]['dco_c2']\n",
    "            aco1=self.p1[vscale1]['aco_c2']\n",
    "        else:\n",
    "            dco1=self.p1[vscale1]['dco']\n",
    "            aco1=0\n",
    "        if c2==2:\n",
    "            dco2=self.p2[vscale1]['dco_c2']\n",
    "            aco2=self.p2[vscale1]['aco_c2']\n",
    "        else:\n",
    "            dco2=self.p2[vscale1]['dco']\n",
    "            aco2=0\n",
    "        cmd='m1'+str(fs).zfill(6)+str(c1)+str(self.p1[vscale1]['gain']).zfill(3)+str(dco1).zfill(3)+str(c2)+str(self.p2[vscale2]['gain']).zfill(3)+str(dco2).zfill(3)+'\\r'\n",
    "        bytedata=bytearray(BUFFERSIZE*4)\n",
    "        self.device.open()\n",
    "        self.device.reset_output_buffer()\n",
    "        self.device.reset_input_buffer()\n",
    "        self.device.write(bytes(cmd,'utf-8'))\n",
    "        self.device.readline()\n",
    "        self.device.readinto(bytedata)\n",
    "        self.device.close()\n",
    "        data=np.frombuffer(bytedata,dtype='uint16').reshape((2,BUFFERSIZE))\n",
    "        raw1=aco1+self.p1[vscale1]['amp']*(self.p1[vscale1]['dc']-1.5*data[0,:]/1700)\n",
    "        raw2=aco2+self.p2[vscale2]['amp']*(self.p2[vscale2]['dc']-1.5*data[1,:]/1700)\n",
    "        # Whittaer-Shannon interpolation for signal reconstruction on a finer grid within the tbase*10 range\n",
    "        n=2**9\n",
    "        t=np.arange(n)*10*tbase*1e-6/n\n",
    "        ch1=np.sum(np.multiply(raw1,np.transpose(np.sinc(t*fs-np.reshape(np.arange(BUFFERSIZE),(BUFFERSIZE,1))))),axis=1)\n",
    "        ch2=np.sum(np.multiply(raw2,np.transpose(np.sinc(t*fs-np.reshape(np.arange(BUFFERSIZE),(BUFFERSIZE,1))))),axis=1)\n",
    "        return t,ch1,ch2,raw1,raw2\n",
    "    \n",
    "    # Measure DC voltage on PC0 and PC1\n",
    "    def measure_volt(self):\n",
    "        cmd='m2\\r'\n",
    "        bytedata=bytearray(4)\n",
    "        self.device.open()\n",
    "        self.device.reset_output_buffer()\n",
    "        self.device.reset_input_buffer()\n",
    "        self.device.write(bytes(cmd,'utf-8'))\n",
    "        self.device.readline()\n",
    "        self.device.readinto(bytedata)\n",
    "        self.device.close()\n",
    "        data=np.frombuffer(bytedata,dtype='uint16')\n",
    "        v1=3.3*data[0]/4095\n",
    "        v2=3.3*data[1]/4095\n",
    "        return v1,v2"
   ]
  },
  {
   "cell_type": "code",
   "execution_count": 30,
   "metadata": {},
   "outputs": [],
   "source": [
    "# RepeatTimer class\n",
    "\n",
    "class RepeatTimer:\n",
    "\n",
    "    def __init__(self,interval,function,*args,**kwargs):\n",
    "        self.interval=interval\n",
    "        self.function=function\n",
    "        self.args=args\n",
    "        self.kwargs=kwargs\n",
    "        self.is_running=False\n",
    "    \n",
    "    def _run(self):\n",
    "        self.is_running=False\n",
    "        try:\n",
    "            self.function(*self.args,**self.kwargs)\n",
    "        except:\n",
    "            pass\n",
    "        self.start()\n",
    "    \n",
    "    def start(self):\n",
    "        if not self.is_running:\n",
    "            self._timer=threading.Timer(self.interval,self._run)\n",
    "            self._timer.start()\n",
    "            self.is_running=True\n",
    "    \n",
    "    def stop(self):\n",
    "        try:\n",
    "            self._timer.cancel()\n",
    "            self.is_running=False\n",
    "        except:\n",
    "            pass"
   ]
  },
  {
   "cell_type": "code",
   "execution_count": 31,
   "metadata": {},
   "outputs": [],
   "source": [
    "vscope=VScopeBoard()"
   ]
  },
  {
   "cell_type": "code",
   "execution_count": 32,
   "metadata": {},
   "outputs": [],
   "source": [
    "# # Calibrate CH1 and CH2 DC offset voltages\n",
    "# # Work only in DC coupling mode\n",
    "# # 1. Connect CH1 and CH2 pins to GND\n",
    "# # 2. Execute all cells above\n",
    "# # 3. Uncomment this cell and execute\n",
    "# # 4. Note down the new 'dc' values and incorporate in the look-up table in capture_oscscope()\n",
    "# # 5. Comment back this cell once completed\n",
    "\n",
    "# n_calibrate=10\n",
    "# vdiv_list=[0.02,0.05,0.1,0.2,0.5,1,2,5]\n",
    "# ch1_dc=list()\n",
    "# ch2_dc=list()\n",
    "# for vdiv in vdiv_list:\n",
    "#     _,_,_,y1,y2=vscope.capture_oscscope(1000,vdiv,'DC',vdiv,'DC')\n",
    "#     for i in range(n_calibrate-1):\n",
    "#         time.sleep(0.5)\n",
    "#         _,_,_,ch1,ch2=vscope.capture_oscscope(1000,vdiv,'DC',vdiv,'DC')\n",
    "#         y1+=ch1\n",
    "#         y2+=ch2\n",
    "#     y1/=n_calibrate\n",
    "#     y2/=n_calibrate\n",
    "#     ch1_dc.append(vscope.p1[vdiv]['dc']-np.mean(y1)/vscope.p1[vdiv]['amp'])\n",
    "#     ch2_dc.append(vscope.p2[vdiv]['dc']-np.mean(y2)/vscope.p2[vdiv]['amp'])\n",
    "#     print('Completed calibrating '+str(vdiv).rjust(4)+' V/Div')\n",
    "# for i, vdiv in enumerate(vdiv_list):\n",
    "#     print('\\'dc\\' CH1 '+str(vdiv).rjust(4)+' V/Div: '+str(round(ch1_dc[i],2)))\n",
    "# for i, vdiv in enumerate(vdiv_list):\n",
    "#     print('\\'dc\\' CH2 '+str(vdiv).rjust(4)+' V/Div: '+str(round(ch2_dc[i],2)))"
   ]
  },
  {
   "cell_type": "code",
   "execution_count": 33,
   "metadata": {},
   "outputs": [
    {
     "data": {
      "application/vnd.jupyter.widget-view+json": {
       "model_id": "596faad0536d4a26be66d1937e8cc6e5",
       "version_major": 2,
       "version_minor": 0
      },
      "text/plain": [
       "Output()"
      ]
     },
     "execution_count": 33,
     "metadata": {},
     "output_type": "execute_result"
    }
   ],
   "source": [
    "# DC voltage supply interface\n",
    "\n",
    "vdc=FloatSlider(min=5.5,max=13.5,step=0.1,value=5.5,continuous_update=False,readout_format='.1f',layout=Layout(width='500px'))\n",
    "vdc_ui=HBox([Label(value='VDCP/VDCN (±V)',layout=Layout(width='105px')),vdc],layout=Layout(justify_content='center',margin='5px 5px 5px 5px'))\n",
    "\n",
    "ps_html='<h1 style=\\'text-align:center;font-size:16px;background-color:lightcoral\\'>Dual DC Voltage Supply</h1>'\n",
    "ps_title=HTML(value=ps_html,layout=Layout(width='820px'))\n",
    "ps_ui=HBox([vdc_ui],layout=Layout(justify_content='space-around',width='820px',height='44px'))\n",
    "\n",
    "interactive_output(vscope.set_vdc,{'voltage':vdc})"
   ]
  },
  {
   "cell_type": "code",
   "execution_count": 34,
   "metadata": {},
   "outputs": [
    {
     "data": {
      "application/vnd.jupyter.widget-view+json": {
       "model_id": "b64d750412944a46a10569afe9312478",
       "version_major": 2,
       "version_minor": 0
      },
      "text/plain": [
       "Output()"
      ]
     },
     "execution_count": 34,
     "metadata": {},
     "output_type": "execute_result"
    }
   ],
   "source": [
    "# Waveform generator interface\n",
    "\n",
    "shape1=ToggleButtons(options=['Sinusoidal','Triangular','Sawtooth'],value='Sinusoidal',style={'button_width':'80px'})\n",
    "amp1=FloatSlider(min=0,max=5,step=0.01,value=0,readout_format='.2f',continuous_update=False)\n",
    "freq1=IntSlider(min=100,max=50000,step=100,value=1000,continuous_update=False)\n",
    "offset1=FloatSlider(min=-6,max=6,step=0.01,value=0,readout_format='.2f',continuous_update=False)\n",
    "\n",
    "shape2=ToggleButtons(options=['Sinusoidal','Triangular','Sawtooth'],value='Sinusoidal',style={'button_width':'80px'})\n",
    "amp2=FloatSlider(min=0,max=5,step=0.01,value=0,readout_format='.2f',continuous_update=False)\n",
    "freq2=IntSlider(min=100,max=50000,step=100,value=1000,continuous_update=False)\n",
    "offset2=FloatSlider(min=-6,max=6,step=0.01,value=0,readout_format='.2f',continuous_update=False)\n",
    "\n",
    "shape1_ui=HBox([Label(value='Shape',layout=Layout(width='105px',display='flex',justify_content='flex-start')),shape1])\n",
    "amp1_ui=HBox([Label(value='Amplitude (V)',layout=Layout(width='105px',display='flex',justify_content='flex-start')),amp1])\n",
    "freq1_ui=HBox([Label(value='Frequency (Hz)',layout=Layout(width='105px',display='flex',justify_content='flex-start')),freq1])\n",
    "offset1_ui=HBox([Label(value='Offset (V)',layout=Layout(width='105px',display='flex',justify_content='flex-start')),offset1])\n",
    "\n",
    "shape2_ui=HBox([Label(value='Shape',layout=Layout(width='105px',display='flex',justify_content='flex-start')),shape2])\n",
    "amp2_ui=HBox([Label(value='Amplitude (V)',layout=Layout(width='105px',display='flex',justify_content='flex-start')),amp2])\n",
    "freq2_ui=HBox([Label(value='Frequency (Hz)',layout=Layout(width='105px',display='flex',justify_content='flex-start')),freq2])\n",
    "offset2_ui=HBox([Label(value='Offset (V)',layout=Layout(width='105px',display='flex',justify_content='flex-start')),offset2])\n",
    "\n",
    "wg1_ui=VBox([HTML('<h3 style=\\'text-align:center;font-size:14px;margin-top:0px;margin-bottom:0px\\'>W1</h3>'),shape1_ui,amp1_ui,freq1_ui,offset1_ui],layout=Layout(border='solid 2px',margin='5px 5px 5px 5px'))\n",
    "wg2_ui=VBox([HTML('<h3 style=\\'text-align:center;font-size:14px;margin-top:0px;margin-bottom:0px\\'>W2</h3>'),shape2_ui,amp2_ui,freq2_ui,offset2_ui],layout=Layout(border='solid 2px',margin='5px 5px 5px 5px'))\n",
    "\n",
    "wg_ui=HBox([wg1_ui,wg2_ui],layout=Layout(justify_content='space-around',width='820px',height='180px'))\n",
    "\n",
    "wg_html='<h1 style=\\'text-align:center;font-size:16px;background-color:lightblue\\'>Waveform Generator</h1>'\n",
    "wg_title=HTML(value=wg_html,layout=Layout(width='820px'))\n",
    "\n",
    "interactive_output(vscope.generate_wave,{'channel':fixed(1),'shape':shape1,'amp':amp1,'freq':freq1,'offset':offset1})\n",
    "interactive_output(vscope.generate_wave,{'channel':fixed(2),'shape':shape2,'amp':amp2,'freq':freq2,'offset':offset2})"
   ]
  },
  {
   "cell_type": "code",
   "execution_count": 35,
   "metadata": {},
   "outputs": [],
   "source": [
    "# Oscilloscope interface\n",
    "\n",
    "fig=plotly.graph_objs.FigureWidget()\n",
    "fig.update_layout(width=380,height=410,margin=dict(l=2,r=2,t=2,b=32),paper_bgcolor='black',showlegend=False)\n",
    "fig.update_layout(xaxis=dict(showticklabels=False,showgrid=True,gridwidth=1,gridcolor='black',zeroline=True,zerolinecolor='black'))\n",
    "fig.update_layout(yaxis1=dict(tickmode='array',tickvals=[0],ticks='inside',tickwidth=2,tickcolor=plotly.colors.qualitative.Plotly[0],showticklabels=False,showgrid=False,zeroline=False))\n",
    "fig.update_layout(yaxis2=dict(tickmode='array',tickvals=[0],ticks='inside',tickwidth=2,tickcolor=plotly.colors.qualitative.Plotly[1],showticklabels=False,showgrid=False,zeroline=False,overlaying='y1'))\n",
    "fig.update_layout(yaxis3=dict(range=[-5,5],dtick=1,showticklabels=False,showgrid=True,gridwidth=1,gridcolor='black',zeroline=True,zerolinewidth=2,zerolinecolor='black',overlaying='y1'))\n",
    "fig.add_trace(plotly.graph_objs.Scatter(x=[],y=[],name='CH1',yaxis='y1'))\n",
    "fig.add_trace(plotly.graph_objs.Scatter(x=[],y=[],name='CH2',yaxis='y2'))\n",
    "fig.add_trace(plotly.graph_objs.Scatter(x=[],y=[],yaxis='y3'))\n",
    "fig.add_annotation(dict(font=dict(family='Courier New, monospace',color='white',size=10),x=0.5,y=-0.04,showarrow=False,text='',textangle=0,xanchor='center',xref='paper',yref='paper'))\n",
    "fig.add_annotation(dict(font=dict(family='Courier New, monospace',color='white',size=10),x=0.5,y=-0.08,showarrow=False,text='',textangle=0,xanchor='center',xref='paper',yref='paper'))\n",
    "fig.add_annotation(dict(font=dict(family='Courier New, monospace',color=plotly.colors.qualitative.Plotly[0],size=10),x=0.02,y=0.99,showarrow=False,text='',textangle=0,xanchor='left',xref='paper',yref='paper'))\n",
    "fig.add_annotation(dict(font=dict(family='Courier New, monospace',color=plotly.colors.qualitative.Plotly[1],size=10),x=0.02,y=0.95,showarrow=False,text='',textangle=0,xanchor='left',xref='paper',yref='paper'))\n",
    "fig.add_annotation(dict(font=dict(family='Courier New, monospace',color='black',size=10),x=0.98,y=0.99,showarrow=False,text='',textangle=0,xanchor='right',xref='paper',yref='paper'))\n",
    "\n",
    "coupling1=ToggleButtons(options=['DC','AC','GND'],value='DC',style={'button_width':'80px'})\n",
    "vscale1=SelectionSlider(options=[0.02,0.05,0.1,0.2,0.5,1,2,5],value=0.2,continuous_update=False)\n",
    "vpos1=FloatSlider(min=-5,max=5,step=0.01,value=0,readout_format='.2f',continuous_update=False)\n",
    "\n",
    "coupling2=ToggleButtons(options=['DC','AC','GND'],value='DC',style={'button_width':'80px'})\n",
    "vscale2=SelectionSlider(options=[0.02,0.05,0.1,0.2,0.5,1,2,5],value=0.2,continuous_update=False)\n",
    "vpos2=FloatSlider(min=-5,max=5,step=0.01,value=0,readout_format='.2f',continuous_update=False)\n",
    "\n",
    "tbase=SelectionSlider(options=[20,50,100,200,500,1000,2000],value=500,continuous_update=False)\n",
    "\n",
    "capture=Button(description='Capture',button_style='primary')\n",
    "\n",
    "coupling1_ui=HBox([Label(value='Coupling',layout=Layout(width='105px',display='flex',justify_content='flex-start')),coupling1])\n",
    "vscale1_ui=HBox([Label(value='Volts/Div',layout=Layout(width='105px',display='flex',justify_content='flex-start')),vscale1])\n",
    "vpos1_ui=HBox([Label(value='Y-Pos.',layout=Layout(width='105px',display='flex',justify_content='flex-start')),vpos1])\n",
    "\n",
    "coupling2_ui=HBox([Label(value='Coupling',layout=Layout(width='105px',display='flex',justify_content='flex-start')),coupling2])\n",
    "vscale2_ui=HBox([Label(value='Volts/Div',layout=Layout(width='105px',display='flex',justify_content='flex-start')),vscale2])\n",
    "vpos2_ui=HBox([Label(value='Y-Pos.',layout=Layout(width='105px',display='flex',justify_content='flex-start')),vpos2])\n",
    "\n",
    "tbase_ui=HBox([Label(value='Time/Div (μS)',layout=Layout(width='105px',display='flex',justify_content='flex-start')),tbase],layout=Layout(margin='7px 7px 7px 7px'))\n",
    "\n",
    "osc1=VBox([HTML('<h3 style=\\'text-align:center;font-size:14px;margin-top:0px;margin-bottom:0px\\'>CH1</h3>'),coupling1_ui,vscale1_ui,vpos1_ui],layout=Layout(border='solid 2px',margin='5px 5px 5px 5px'))\n",
    "osc2=VBox([HTML('<h3 style=\\'text-align:center;font-size:14px;margin-top:0px;margin-bottom:0px\\'>CH2</h3>'),coupling2_ui,vscale2_ui,vpos2_ui],layout=Layout(border='solid 2px',margin='5px 5px 5px 5px'))\n",
    "osc3=VBox([tbase_ui,capture],layout=Layout(align_items='center'))\n",
    "osc_ui=HBox([VBox([fig],layout=Layout(justify_content='space-around')),VBox([osc1,osc2,osc3],layout=Layout(justify_content='space-around'))],layout=Layout(justify_content='space-around',width='820px',height='420px'))\n",
    "\n",
    "osc_html='<h1 style=\\'text-align:center;font-size:16px;background-color:lightgreen\\'>Oscilloscope</h1>'\n",
    "osc_title=HTML(value=osc_html,layout=Layout(width='820px'))\n",
    "\n",
    "def calchar(y,dt,tbase):\n",
    "    n_avg=5\n",
    "    y=np.convolve(y,np.ones(n_avg),mode='valid')/n_avg # moving average\n",
    "    rms=np.sqrt(np.mean(y**2))\n",
    "    ptp=np.ptp(y) \n",
    "    if tbase<510:\n",
    "        y=np.pad(y,(0,int(0.01*len(y)/(10*tbase*1e-6))-len(y)),'constant') # ensure frequency resolution < 100 Hz\n",
    "    freq=np.abs(np.fft.fftfreq(len(y))[np.argmax(np.abs(np.fft.fft(y-np.mean(y))))]/dt)\n",
    "    return rms,freq,ptp\n",
    "\n",
    "def txtchar(ch,rms,freq,ptp):\n",
    "    text='CH1    ' if ch==1 else 'CH2    '\n",
    "    text=text+'RMS: {0:6.2f} mV    '.format(rms*1e3) if rms<1 else text+'RMS: {0:6.2f} V     '.format(rms)\n",
    "    text=text+'Freq: {0:6.3f} kHz    '.format(freq*1e-3) if freq>1e3 else text+'Freq: {0:6.0f} Hz     '.format(freq)\n",
    "    text=text+'Vpp: {0:6.2f} mV'.format(ptp*1e3) if ptp<1 else text+'Vpp: {0:6.2f} V '.format(ptp)\n",
    "    return text\n",
    "\n",
    "def capture_oscscope(empty=None):\n",
    "    if coupling1.value=='AC' and vscale1.value>0.4:\n",
    "        print('Only DC coupling is available for V/Div > 0.5. Selecting DC coupling for CH1.')\n",
    "        coupling1.value='DC'\n",
    "    if coupling2.value=='AC' and vscale2.value>0.4:\n",
    "        print('Only DC coupling is available for V/Div > 0.5. Selecting DC coupling for CH2.')\n",
    "        coupling2.value='DC'\n",
    "    t,ch1,ch2,_,_=vscope.capture_oscscope(tbase.value,vscale1.value,coupling1.value,vscale2.value,coupling2.value)\n",
    "    fig.data[0]['x']=fig.data[1]['x']=t\n",
    "    fig.data[0]['y']=ch1\n",
    "    fig.data[1]['y']=ch2\n",
    "    fig.update_layout(xaxis=dict(range=[0,10*tbase.value*1e-6],dtick=tbase.value*1e-6))\n",
    "    fig.update_layout(yaxis1=dict(range=[vscale1.value*(-vpos1.value-5),vscale1.value*(-vpos1.value+5)]))\n",
    "    fig.update_layout(yaxis2=dict(range=[vscale2.value*(-vpos2.value-5),vscale2.value*(-vpos2.value+5)]))\n",
    "    rms1,freq1,ptp1=calchar(ch1,t[1],tbase.value)\n",
    "    rms2,freq2,ptp2=calchar(ch2,t[1],tbase.value)\n",
    "    fig.update_layout(annotations=[dict(text=txtchar(1,rms1,freq1,ptp1)),dict(text=txtchar(2,rms2,freq2,ptp2)),dict(text='CH1: {0:4.2f} V/Div'.format(vscale1.value)),dict(text='CH2: {0:4.2f} V/Div'.format(vscale2.value)),dict(text=str(tbase.value)+' μs/Div')])\n",
    "\n",
    "capture_oscscope()\n",
    "\n",
    "capture.on_click(capture_oscscope)\n",
    "tbase.observe(capture_oscscope,'value')\n",
    "vscale1.observe(capture_oscscope,'value')\n",
    "vpos1.observe(capture_oscscope,'value')\n",
    "coupling1.observe(capture_oscscope,'value')\n",
    "vscale2.observe(capture_oscscope,'value')\n",
    "vpos2.observe(capture_oscscope,'value')\n",
    "coupling2.observe(capture_oscscope,'value')"
   ]
  },
  {
   "cell_type": "code",
   "execution_count": 36,
   "metadata": {},
   "outputs": [],
   "source": [
    "set = FloatSlider(description='Set', continuous_update=False, value=10) \n",
    "vol = FloatSlider(description='Vol', disabled=True) \n",
    "switch = ToggleButtons(options=['On', 'Off'], value='Off') "
   ]
  },
  {
   "cell_type": "code",
   "execution_count": 37,
   "metadata": {},
   "outputs": [],
   "source": [
    "va_min = -2.7    # vC must be between -0.15 V (loudest) and 0.5 V (softest) \n",
    "va_max = 9.0      \n",
    "max_volume = 3.3 # maximum voltage that can be read by PC0 and PC1 "
   ]
  },
  {
   "cell_type": "code",
   "execution_count": 38,
   "metadata": {},
   "outputs": [
    {
     "data": {
      "application/vnd.jupyter.widget-view+json": {
       "model_id": "7168c979db494d24863874a353ab6465",
       "version_major": 2,
       "version_minor": 0
      },
      "text/plain": [
       "FloatSlider(value=10.0, continuous_update=False, description='Set')"
      ]
     },
     "metadata": {},
     "output_type": "display_data"
    },
    {
     "data": {
      "application/vnd.jupyter.widget-view+json": {
       "model_id": "042b751085db48c5b286c6bb2bc1e3a5",
       "version_major": 2,
       "version_minor": 0
      },
      "text/plain": [
       "FloatSlider(value=0.0, description='Vol', disabled=True)"
      ]
     },
     "metadata": {},
     "output_type": "display_data"
    },
    {
     "data": {
      "application/vnd.jupyter.widget-view+json": {
       "model_id": "1dd743276bce4c418fd3af6031809bfc",
       "version_major": 2,
       "version_minor": 0
      },
      "text/plain": [
       "ToggleButtons(index=1, options=('On', 'Off'), value='Off')"
      ]
     },
     "metadata": {},
     "output_type": "display_data"
    }
   ],
   "source": [
    "delta = 0.01 # va voltage increment/decrement size in each iteration \n",
    " \n",
    "u = 0.0 # initial va \n",
    "vscope.generate_wave(2, None, 0, 1000, u) # set initial va at 0 \n",
    "def control(): # this function gets called repeatedly once the power is on \n",
    "    global u # ensure variable u created outside can be used in the function \n",
    "    v_volume, _ = vscope.measure_volt() # voltage readings at PC0/PC1; discard PC1 \n",
    "    r0 = set.value # user set volume level taken from the set slider \n",
    "    z = v_volume/max_volume*100 # measured volume as a fraction of maximum volume\n",
    "    if z < r0:\n",
    "        u-=delta\n",
    "    elif z > r0:\n",
    "        u+=delta \n",
    "    u = np.clip(u, va_min, va_max) # ensure u stays within the allowed range of va \n",
    "    vscope.generate_wave(2, None, 0, 1000, u) # set the W2 offset to the new u \n",
    "    vol.value = z # adjust the vol slider to the detected volume level \n",
    "     \n",
    "auto = RepeatTimer(0.01, control) # call control() function every 10 ms \n",
    " \n",
    "def power_onoff(empty=None): # switch on/off audio amplifier \n",
    "    if switch.value == 'On': \n",
    "        vscope.set_vdc(13.5) # switch on the amplifier \n",
    "        time.sleep(0.5) # pause for 0.5 s to avoid port access congestion  \n",
    "        auto.start() # start the timer \n",
    "    else: \n",
    "        auto.stop() # stop the timer \n",
    "        time.sleep(0.5) # pause for 0.5 s to avoid port access congestion  \n",
    "        vscope.set_vdc(5.5) # switch off the amplifier \n",
    " \n",
    "switch.observe(power_onoff, 'value') # call power_onoff() function \n",
    "display(set, vol, switch) # display the user interface elements"
   ]
  },
  {
   "attachments": {
    "image.png": {
     "image/png": "[encoded data removed]"
    }
   },
   "cell_type": "markdown",
   "metadata": {},
   "source": [
    "![image.png](attachment:image.png)"
   ]
  },
  {
   "cell_type": "code",
   "execution_count": 39,
   "metadata": {},
   "outputs": [],
   "source": [
    "# display(ps_title,ps_ui)\n",
    "# display(wg_title,wg_ui)\n",
    "# display(osc_title,osc_ui)"
   ]
  },
  {
   "cell_type": "markdown",
   "metadata": {},
   "source": [
    "Adjusting the Delta to a smaller value would result in a smaller increment in the volume adjustments. Resulting in a smoother increase or decrease to the volume change. Higher Delta would make the volume to have sudden spikes and might result in a distorting or 'choppy' sound. This happens as the Delta is directly affecting the Va which acts as the volume control."
   ]
  },
  {
   "cell_type": "markdown",
   "metadata": {},
   "source": [
    "# Open Ended Question\n",
    "\n",
    "From the RepeatTimer class, the accuracy of the time interval between calls to the control function is accurate and reliable enough. When changes to 1s instead of 10ms, the volume can be seen changing at an accurate rate of 1s. This shows that every 10ms, control() will be reliably be called. Additional observation was seen when the timing was changed to 100us. A faster change to the volume can be observed. \n",
    "\n",
    "However, the RepeatTimer class has a bit of a delay where whenever the class is called, a check if function given is able to run is done before setting the interval for the function. Even though this might not cause might of an issue for this case, if a function with more complexity or even with a time delay would cause an delay at the start of the class and might not be reliable anymore. "
   ]
  }
 ],
 "metadata": {
  "kernelspec": {
   "display_name": "Python 3 (ipykernel)",
   "language": "python",
   "name": "python3"
  },
  "language_info": {
   "codemirror_mode": {
    "name": "ipython",
    "version": 3
   },
   "file_extension": ".py",
   "mimetype": "text/x-python",
   "name": "python",
   "nbconvert_exporter": "python",
   "pygments_lexer": "ipython3",
   "version": "3.12.0"
  },
  "vscode": {
   "interpreter": {
    "hash": "f809a9dfa0e0a335b59a7536098ca304ba534980b617098700c637c487e1c96d"
   }
  }
 },
 "nbformat": 4,
 "nbformat_minor": 2
}
